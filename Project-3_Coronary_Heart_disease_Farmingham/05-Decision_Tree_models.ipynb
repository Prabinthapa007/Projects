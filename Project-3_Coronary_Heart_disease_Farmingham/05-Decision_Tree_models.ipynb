{
 "cells": [
  {
   "cell_type": "code",
   "execution_count": 1,
   "id": "2f9ec891-fbe2-4335-be29-b57e63a649cd",
   "metadata": {},
   "outputs": [],
   "source": [
    "import pandas as pd\n",
    "import numpy as np\n",
    "import matplotlib.pyplot as plt\n",
    "import seaborn as sns\n",
    "from sklearn.model_selection import train_test_split, GridSearchCV, cross_val_score\n",
    "from sklearn import tree\n",
    "from sklearn.ensemble import RandomForestClassifier, GradientBoostingClassifier\n",
    "from sklearn.neighbors import KNeighborsClassifier\n",
    "from xgboost import XGBClassifier\n",
    "from sklearn.metrics import precision_recall_curve, classification_report, accuracy_score, recall_score, f1_score, confusion_matrix, mean_squared_error, precision_score"
   ]
  },
  {
   "cell_type": "code",
   "execution_count": 2,
   "id": "7891305e-f86b-4e97-bace-6e55d7f46b88",
   "metadata": {},
   "outputs": [
    {
     "data": {
      "text/html": [
       "<div>\n",
       "<style scoped>\n",
       "    .dataframe tbody tr th:only-of-type {\n",
       "        vertical-align: middle;\n",
       "    }\n",
       "\n",
       "    .dataframe tbody tr th {\n",
       "        vertical-align: top;\n",
       "    }\n",
       "\n",
       "    .dataframe thead th {\n",
       "        text-align: right;\n",
       "    }\n",
       "</style>\n",
       "<table border=\"1\" class=\"dataframe\">\n",
       "  <thead>\n",
       "    <tr style=\"text-align: right;\">\n",
       "      <th></th>\n",
       "      <th>age</th>\n",
       "      <th>cigsPerDay</th>\n",
       "      <th>BPMeds</th>\n",
       "      <th>prevalentStroke</th>\n",
       "      <th>diabetes</th>\n",
       "      <th>totChol</th>\n",
       "      <th>sysBP</th>\n",
       "      <th>BMI</th>\n",
       "      <th>heartRate</th>\n",
       "      <th>glucose</th>\n",
       "      <th>male</th>\n",
       "      <th>female</th>\n",
       "      <th>target</th>\n",
       "    </tr>\n",
       "  </thead>\n",
       "  <tbody>\n",
       "    <tr>\n",
       "      <th>0</th>\n",
       "      <td>-1.217670</td>\n",
       "      <td>-0.757524</td>\n",
       "      <td>-0.162324</td>\n",
       "      <td>-0.072187</td>\n",
       "      <td>-0.099863</td>\n",
       "      <td>-0.961110</td>\n",
       "      <td>-1.240737</td>\n",
       "      <td>0.361848</td>\n",
       "      <td>0.391573</td>\n",
       "      <td>-0.177185</td>\n",
       "      <td>-1.145519</td>\n",
       "      <td>1.145519</td>\n",
       "      <td>0</td>\n",
       "    </tr>\n",
       "    <tr>\n",
       "      <th>1</th>\n",
       "      <td>-0.397103</td>\n",
       "      <td>-0.757524</td>\n",
       "      <td>-0.162324</td>\n",
       "      <td>-0.072187</td>\n",
       "      <td>-0.099863</td>\n",
       "      <td>0.335695</td>\n",
       "      <td>-0.496956</td>\n",
       "      <td>0.832289</td>\n",
       "      <td>1.685033</td>\n",
       "      <td>-0.262482</td>\n",
       "      <td>0.872966</td>\n",
       "      <td>-0.872966</td>\n",
       "      <td>0</td>\n",
       "    </tr>\n",
       "    <tr>\n",
       "      <th>2</th>\n",
       "      <td>-0.162655</td>\n",
       "      <td>0.918782</td>\n",
       "      <td>-0.162324</td>\n",
       "      <td>-0.072187</td>\n",
       "      <td>-0.099863</td>\n",
       "      <td>0.217804</td>\n",
       "      <td>-0.174651</td>\n",
       "      <td>-0.073845</td>\n",
       "      <td>-0.039581</td>\n",
       "      <td>-0.774266</td>\n",
       "      <td>-1.145519</td>\n",
       "      <td>1.145519</td>\n",
       "      <td>0</td>\n",
       "    </tr>\n",
       "    <tr>\n",
       "      <th>3</th>\n",
       "      <td>-0.397103</td>\n",
       "      <td>1.170228</td>\n",
       "      <td>-0.162324</td>\n",
       "      <td>-0.072187</td>\n",
       "      <td>-0.099863</td>\n",
       "      <td>1.160935</td>\n",
       "      <td>-0.050687</td>\n",
       "      <td>-0.672588</td>\n",
       "      <td>0.822726</td>\n",
       "      <td>0.505193</td>\n",
       "      <td>0.872966</td>\n",
       "      <td>-0.872966</td>\n",
       "      <td>0</td>\n",
       "    </tr>\n",
       "    <tr>\n",
       "      <th>4</th>\n",
       "      <td>-0.748775</td>\n",
       "      <td>-0.757524</td>\n",
       "      <td>-0.162324</td>\n",
       "      <td>-0.072187</td>\n",
       "      <td>-0.099863</td>\n",
       "      <td>-0.183027</td>\n",
       "      <td>2.428583</td>\n",
       "      <td>1.251944</td>\n",
       "      <td>0.132880</td>\n",
       "      <td>1.699355</td>\n",
       "      <td>0.872966</td>\n",
       "      <td>-0.872966</td>\n",
       "      <td>0</td>\n",
       "    </tr>\n",
       "  </tbody>\n",
       "</table>\n",
       "</div>"
      ],
      "text/plain": [
       "        age  cigsPerDay    BPMeds  prevalentStroke  diabetes   totChol  \\\n",
       "0 -1.217670   -0.757524 -0.162324        -0.072187 -0.099863 -0.961110   \n",
       "1 -0.397103   -0.757524 -0.162324        -0.072187 -0.099863  0.335695   \n",
       "2 -0.162655    0.918782 -0.162324        -0.072187 -0.099863  0.217804   \n",
       "3 -0.397103    1.170228 -0.162324        -0.072187 -0.099863  1.160935   \n",
       "4 -0.748775   -0.757524 -0.162324        -0.072187 -0.099863 -0.183027   \n",
       "\n",
       "      sysBP       BMI  heartRate   glucose      male    female  target  \n",
       "0 -1.240737  0.361848   0.391573 -0.177185 -1.145519  1.145519       0  \n",
       "1 -0.496956  0.832289   1.685033 -0.262482  0.872966 -0.872966       0  \n",
       "2 -0.174651 -0.073845  -0.039581 -0.774266 -1.145519  1.145519       0  \n",
       "3 -0.050687 -0.672588   0.822726  0.505193  0.872966 -0.872966       0  \n",
       "4  2.428583  1.251944   0.132880  1.699355  0.872966 -0.872966       0  "
      ]
     },
     "execution_count": 2,
     "metadata": {},
     "output_type": "execute_result"
    }
   ],
   "source": [
    "final_dataset = pd.read_csv('cleaned_data.csv')\n",
    "final_dataset.head()"
   ]
  },
  {
   "cell_type": "code",
   "execution_count": 3,
   "id": "e3739c2b-39b0-4708-8ee1-1da6e919aee5",
   "metadata": {},
   "outputs": [],
   "source": [
    "X = final_dataset.drop('target', axis=1).to_numpy()\n",
    "y = final_dataset['target'].to_numpy()\n",
    "\n",
    "X_train, X_test, y_train, y_test = train_test_split(X, y, test_size=0.2, stratify=y, shuffle=True, random_state=44)"
   ]
  },
  {
   "cell_type": "code",
   "execution_count": 4,
   "id": "af876008-ab0f-4084-b707-473b83c8edea",
   "metadata": {},
   "outputs": [
    {
     "name": "stdout",
     "output_type": "stream",
     "text": [
      "              precision    recall  f1-score   support\n",
      "\n",
      "           0       1.00      0.97      0.98       697\n",
      "           1       0.97      1.00      0.98       696\n",
      "\n",
      "    accuracy                           0.98      1393\n",
      "   macro avg       0.98      0.98      0.98      1393\n",
      "weighted avg       0.98      0.98      0.98      1393\n",
      "\n",
      "              precision    recall  f1-score   support\n",
      "\n",
      "           0       0.92      0.69      0.79       697\n",
      "           1       0.75      0.94      0.83       696\n",
      "\n",
      "    accuracy                           0.81      1393\n",
      "   macro avg       0.83      0.81      0.81      1393\n",
      "weighted avg       0.83      0.81      0.81      1393\n",
      "\n",
      "              precision    recall  f1-score   support\n",
      "\n",
      "           0       0.98      0.89      0.93       697\n",
      "           1       0.90      0.98      0.94       696\n",
      "\n",
      "    accuracy                           0.94      1393\n",
      "   macro avg       0.94      0.94      0.94      1393\n",
      "weighted avg       0.94      0.94      0.94      1393\n",
      "\n",
      "              precision    recall  f1-score   support\n",
      "\n",
      "           0       0.74      0.70      0.72       697\n",
      "           1       0.72      0.76      0.74       696\n",
      "\n",
      "    accuracy                           0.73      1393\n",
      "   macro avg       0.73      0.73      0.73      1393\n",
      "weighted avg       0.73      0.73      0.73      1393\n",
      "\n",
      "Best Model: Random Forest, Best Accuracy: 0.9806173725771715, Best F1-Score: 0.9808917197452229\n"
     ]
    }
   ],
   "source": [
    "def classifiers(X_train, X_test, y_train, y_test):\n",
    "    \n",
    "    rf_classifier = RandomForestClassifier()\n",
    "    knn_classifier = KNeighborsClassifier()\n",
    "    xgb_classifier = XGBClassifier()\n",
    "    gb_classifier = GradientBoostingClassifier()\n",
    "    \n",
    "    classifiers = {\"Random Forest\": rf_classifier,\n",
    "                   \"K-Nearest Neighbors\" : knn_classifier,\n",
    "                   \"XGBoost\": xgb_classifier,\n",
    "                   \"Gradient Boosting\": gb_classifier\n",
    "                  }\n",
    "    \n",
    "    results = {}\n",
    "    for name, clf in classifiers.items():\n",
    "        clf.fit(X_train, y_train)\n",
    "        y_pred = clf.predict(X_test)\n",
    "        accuracy = accuracy_score(y_test, y_pred)\n",
    "        print(classification_report(y_test, y_pred))\n",
    "        f1 = f1_score(y_test, y_pred)\n",
    "        results[name] = {'accuracy': accuracy, 'f1_score': f1}\n",
    "\n",
    "    best_model = None\n",
    "    best_avg_score = 0\n",
    "    for name, scores in results.items():\n",
    "        avg_score = (scores['accuracy'] + scores['f1_score']) / 2\n",
    "        if avg_score > best_avg_score:\n",
    "            best_avg_score = avg_score\n",
    "            best_model = name\n",
    "\n",
    "    return best_model, results[best_model]['accuracy'], results[best_model]['f1_score']\n",
    "\n",
    "best_model, best_accuracy, best_f1_score = classifiers(X_train, X_test, y_train, y_test)\n",
    "print(f\"Best Model: {best_model}, Best Accuracy: {best_accuracy}, Best F1-Score: {best_f1_score}\")\n"
   ]
  },
  {
   "cell_type": "code",
   "execution_count": 6,
   "id": "761401a1-d81d-4caf-893d-99d0434a5638",
   "metadata": {},
   "outputs": [
    {
     "name": "stdout",
     "output_type": "stream",
     "text": [
      "[0 0 1 ... 1 1 0]\n",
      "Accuracy: 0.9784637473079684\n",
      "\n",
      "Precision: 96.250\n",
      "\n",
      "Recall: 99.569\n",
      "F1 score : 0.9788135593220338\n"
     ]
    }
   ],
   "source": [
    "rf = RandomForestClassifier()\n",
    "rf.fit(X_train, y_train)\n",
    "\n",
    "y_pred = rf.predict(X_test)\n",
    "print(y_pred)\n",
    "\n",
    "accuracy = rf.score(X_test, y_test)\n",
    "print(f\"Accuracy: {accuracy}\")\n",
    "\n",
    "precision = precision_score(y_test, y_pred)\n",
    "print(f\"\\nPrecision: {precision*100:.3f}\")\n",
    "\n",
    "recall = recall_score(y_test, y_pred)\n",
    "print(f\"\\nRecall: {recall*100:.3f}\")\n",
    "\n",
    "f1 = f1_score(y_test, y_pred)\n",
    "print(f'F1 score : {f1}')"
   ]
  },
  {
   "cell_type": "code",
   "execution_count": 7,
   "id": "4111bcc2-3f66-44e6-8ada-46095af60c45",
   "metadata": {},
   "outputs": [
    {
     "data": {
      "image/png": "[encoded data removed]",
      "text/plain": [
       "<Figure size 400x200 with 1 Axes>"
      ]
     },
     "metadata": {},
     "output_type": "display_data"
    }
   ],
   "source": [
    "cm = confusion_matrix(y_test, y_pred)\n",
    "plt.figure(figsize=(4, 2))\n",
    "sns.heatmap(cm, annot=True, fmt='d', cmap='Blues', cbar=False,\n",
    "            xticklabels=['Predicted Negative', 'Predicted Positive'],\n",
    "            yticklabels=['True Negative', 'True Positive'])\n",
    "plt.xlabel('Predicted')\n",
    "plt.ylabel('Actual')\n",
    "plt.title('Confusion Matrix')\n",
    "plt.show()"
   ]
  },
  {
   "cell_type": "code",
   "execution_count": 8,
   "id": "86ff0ed4-e731-4582-9427-a58392d83093",
   "metadata": {},
   "outputs": [
    {
     "name": "stdout",
     "output_type": "stream",
     "text": [
      "1.0\n",
      "0.9784637473079684\n"
     ]
    }
   ],
   "source": [
    "print(rf.score(X_train, y_train))\n",
    "print(rf.score(X_test, y_test))"
   ]
  },
  {
   "cell_type": "code",
   "execution_count": 9,
   "id": "b711503e-8d01-4258-81f1-40641c46f924",
   "metadata": {},
   "outputs": [
    {
     "name": "stdout",
     "output_type": "stream",
     "text": [
      "[0 1 0 1 1 1 1 0 1 1 1 0 0 1 1 1 0 1 1 1 1 0 0 1 1 1 1 1 1 0 1 1 0 1 1 1 1\n",
      " 0 1 1 0 1 0 0 1 0 0 0 1 0 0 0 1 1 0 1 0 0 1 0 0 1 1 0 1 1 1 1 0 1 0 0 1 0\n",
      " 0 0 0 0 1 0 1 0 1 0 1 1 0 1 1 1 0 1 1 0 1 0 1 1 0 1 1 1 1 0 1 1 0 1 1 1 0\n",
      " 1 0 1 0 0 1 0 1 1 0 1 1 0 1 0 1 1 1 0 0 1 0 0 1 0 0 0 1 1 0 1 0 0 1 1 0 1\n",
      " 1 0 1 1 0 0 0 1 0 1 1 1 0 1 1 1 1 0 1 1 0 1 1 0 0 1 0 0 1 1 1 1 1 1 1 0 0\n",
      " 1 0 1 1 0 0 1 1 0 0 1 1 0 1 0 1 1 1 1 1 1 0 0 0 1 0 0 1 0 1 1 1 1 0 1 0 1\n",
      " 0 1 1 1 1 1 1 0 1 1 1 1 1 1 1 0 0 1 0 0 0 0 1 0 0 1 1 0 1 1 0 1 1 1 0 1 1\n",
      " 0 1 0 0 0 1 0 1 1 0 1 0 1 1 0 1 0 0 1 0 0 1 0 0 0 0 1 1 1 0 0 1 1 0 0 0 1\n",
      " 0 0 1 0 0 0 1 1 1 1 0 0 0 0 0 0 0 0 1 0 1 0 0 1 1 0 0 0 0 1 0 0 0 1 1 1 0\n",
      " 0 1 1 0 1 1 0 1 1 0 1 0 1 1 0 1 0 0 0 0 0 1 1 0 1 0 0 1 0 0 1 1 1 0 1 0 0\n",
      " 0 1 1 1 0 1 1 1 0 1 1 0 0 0 1 1 1 1 0 0 1 0 1 0 1 1 0 0 0 0 0 1 1 0 1 0 1\n",
      " 0 1 0 0 1 0 0 1 0 0 1 1 0 0 1 1 1 1 0 0 0 1 0 0 1 1 1 0 0 1 1 0 1 0 1 1 1\n",
      " 1 0 0 1 0 1 1 1 1 0 0 1 1 1 0 1 1 0 0 1 1 0 0 1 1 1 1 1 0 0 1 1 1 1 1 1 1\n",
      " 0 0 1 0 0 0 1 1 0 1 1 1 0 1 0 1 0 0 0 0 0 1 0 1 0 1 0 1 1 0 0 1 1 0 0 0 0\n",
      " 1 1 1 0 1 0 0 1 0 0 1 0 0 0 1 0 0 0 1 1 1 1 1 0 0 1 0 0 1 0 1 1 1 0 0 1 1\n",
      " 1 0 0 1 0 0 0 0 1 1 1 1 1 0 1 0 0 1 1 1 1 0 0 0 1 1 0 1 0 1 0 0 1 1 1 1 0\n",
      " 1 1 1 0 0 0 1 1 0 1 1 1 1 0 0 1 0 1 1 1 0 0 1 0 1 0 0 0 1 0 0 1 0 0 1 1 0\n",
      " 0 1 0 0 1 0 0 0 0 0 0 1 1 0 0 0 1 0 0 0 0 0 0 1 1 0 1 0 0 1 0 1 1 0 1 1 1\n",
      " 1 1 1 1 1 0 0 1 1 0 1 0 1 1 1 0 0 0 1 1 0 0 0 1 0 0 1 1 0 1]\n"
     ]
    }
   ],
   "source": [
    "print(y_pred[1:6000:2])"
   ]
  },
  {
   "cell_type": "markdown",
   "id": "18bae59b-c182-41f7-8d53-782d45b5b1d8",
   "metadata": {},
   "source": [
    "### Prediction Pipeline"
   ]
  },
  {
   "cell_type": "code",
   "execution_count": 10,
   "id": "8d1a8723-57d9-4ab7-88cb-683a2afebd11",
   "metadata": {},
   "outputs": [],
   "source": [
    "import pickle\n",
    "with open(\"best_model/Random_forest.pkl\", \"wb\") as file:\n",
    "    pickle.dump(rf, file)"
   ]
  },
  {
   "cell_type": "code",
   "execution_count": 11,
   "id": "d7c74128-5d91-475e-a471-cdd57e747745",
   "metadata": {},
   "outputs": [],
   "source": [
    "def get_save_file(file_path:str):\n",
    "\n",
    "    with open(file_path, \"rb\") as file:\n",
    "        output = pickle.load(file)\n",
    "\n",
    "    return output"
   ]
  },
  {
   "cell_type": "code",
   "execution_count": 12,
   "id": "893162df-fa18-45b4-b024-60e9244201ed",
   "metadata": {},
   "outputs": [],
   "source": [
    "best_scaler = get_save_file(\"best_model/standard_scaler.pkl\")\n",
    "best_model = get_save_file(\"best_model/Random_forest.pkl\")\n",
    "encoded_onehot = get_save_file(\"best_model/encoded_onehot.pkl\")"
   ]
  },
  {
   "cell_type": "code",
   "execution_count": 13,
   "id": "f43f2343-a757-4557-9fc1-45b1e126c386",
   "metadata": {},
   "outputs": [
    {
     "name": "stderr",
     "output_type": "stream",
     "text": [
      "C:\\Users\\hp\\OneDrive\\Desktop\\Projects\\myvenv\\Lib\\site-packages\\sklearn\\base.py:493: UserWarning: X does not have valid feature names, but StandardScaler was fitted with feature names\n",
      "  warnings.warn(\n"
     ]
    }
   ],
   "source": [
    "user_input = np.array([[66, 25, 0, 0, 1, 240, 150, 27.64, 85, 77, 0, 1]])\n",
    "\n",
    "model_output = best_model.predict(\n",
    "    best_scaler.transform(\n",
    "        user_input\n",
    "    )\n",
    ")"
   ]
  },
  {
   "cell_type": "code",
   "execution_count": 14,
   "id": "6af38627-c881-4a3e-9925-8869448c5d18",
   "metadata": {},
   "outputs": [
    {
     "name": "stdout",
     "output_type": "stream",
     "text": [
      "[0]\n"
     ]
    }
   ],
   "source": [
    "user_ouput = model_output\n",
    "print(user_ouput)"
   ]
  },
  {
   "cell_type": "code",
   "execution_count": null,
   "id": "06f6a58d-08ee-4ac8-b873-033bb944dc45",
   "metadata": {},
   "outputs": [],
   "source": []
  }
 ],
 "metadata": {
  "kernelspec": {
   "display_name": "Python 3 (ipykernel)",
   "language": "python",
   "name": "python3"
  },
  "language_info": {
   "codemirror_mode": {
    "name": "ipython",
    "version": 3
   },
   "file_extension": ".py",
   "mimetype": "text/x-python",
   "name": "python",
   "nbconvert_exporter": "python",
   "pygments_lexer": "ipython3",
   "version": "3.12.2"
  }
 },
 "nbformat": 4,
 "nbformat_minor": 5
}
